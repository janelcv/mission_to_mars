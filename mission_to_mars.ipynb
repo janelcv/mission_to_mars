{
  "cells": [
    {
      "cell_type": "code",
      "source": [
        "# Dependencies\n",
        "from bs4 import BeautifulSoup\n",
        "from splinter import Browser\n",
        "browser = Browser('chrome')\n",
        "import requests\n",
        "import pandas as pd\n",
        "import numpy as np\n",
        "import re\n",
        "import json"
      ],
      "outputs": [],
      "execution_count": 1,
      "metadata": {
        "inputHidden": false,
        "outputHidden": false
      }
    },
    {
      "cell_type": "markdown",
      "source": [
        "# NASA Mars News titles"
      ],
      "metadata": {}
    },
    {
      "cell_type": "code",
      "source": [
        "news_title=[]\n",
        "article_title =[]\n",
        "url = 'https://mars.nasa.gov/news/?page=0&per_page=40&order=publish_date+desc%2Ccreated_at+desc&search=&category=19%2C165%2C184%2C204&blank_scope=Latest'\n",
        "response = browser.visit(url)\n",
        "soup = BeautifulSoup(browser.html, 'html.parser')\n",
        "news_list = soup.find_all(\"div\", class_='content_title')\n",
        "for news in news_list:\n",
        "    news_t = news.text.strip()\n",
        "    news_title.append(news_t)\n",
        "for i in range(len(news_title)):\n",
        "        article = dict([('Latest Article', news_title[i])])\n",
        "        article_title.append(article)\n",
        "print(article_title)"
      ],
      "outputs": [
        {
          "output_type": "stream",
          "name": "stdout",
          "text": [
            "[{'Latest Article': \"NASA's InSight Takes Its First Selfie\"}, {'Latest Article': \"NASA InSight Lander 'Hears' Martian Winds\"}, {'Latest Article': \"NASA's Mars InSight Flexes Its Arm\"}, {'Latest Article': \"Mars New Home 'a Large Sandbox'\"}, {'Latest Article': 'NASA Hears MarCO CubeSats Loud and Clear from Mars'}, {'Latest Article': 'InSight Is Catching Rays on Mars'}, {'Latest Article': 'NASA InSight Lander Arrives on Martian Surface'}, {'Latest Article': 'Landing Day for InSight'}, {'Latest Article': 'NASA InSight Landing on Mars: Milestones'}, {'Latest Article': 'NASA InSight Team on Course for Mars Touchdown'}, {'Latest Article': 'What Two Planetary Siblings Can Teach Us About Life'}, {'Latest Article': 'NASA Announces Landing Site for Mars 2020 Rover'}, {'Latest Article': 'NASA to Host Media Call on Next Mars Landing Site'}, {'Latest Article': 'How NASA Will Know When InSight Touches Down'}, {'Latest Article': 'NASA Brings Mars Landing to Viewers Everywhere'}, {'Latest Article': 'Curiosity on the Move Again'}, {'Latest Article': 'The Mars InSight Landing Site Is Just Plain Perfect'}, {'Latest Article': \"Five Things to Know About InSight's Mars Landing\"}, {'Latest Article': 'NASA Launches a New Podcast to Mars'}, {'Latest Article': 'Update on Opportunity Rover Recovery Efforts'}, {'Latest Article': 'Third ASPIRE Test Confirms Mars 2020 Parachute a Go'}, {'Latest Article': 'NASA to Host Briefing on November Mars InSight Landing'}, {'Latest Article': \"NASA's InSight Will Study Mars While Standing Still\"}, {'Latest Article': \"NASA's First Image of Mars from a CubeSat\"}, {'Latest Article': \"The 'Claw Game' on Mars: NASA InSight Plays to Win\"}, {'Latest Article': 'Scientists to Debate Landing Site for Next Mars Rover'}, {'Latest Article': 'Mars Virtual Reality Software Wins NASA Award'}, {'Latest Article': 'Painting Cars for Mars'}, {'Latest Article': 'Opportunity Emerges in a Dusty Picture'}, {'Latest Article': 'NASA Seeking Partner in Contest to Name Next Mars Rover'}, {'Latest Article': \"NASA's MAVEN Selfie Marks Four Years in Orbit at Mars\"}, {'Latest Article': 'MarCO Makes Space for Small Explorers'}, {'Latest Article': 'Curiosity Surveys a Mystery Under Dusty Skies'}, {'Latest Article': \"NASA's InSight Has a Thermometer for Mars\"}, {'Latest Article': 'Digital Creators: Apply for NASA Mars Landing Event'}, {'Latest Article': \"NASA's InSight Passes Halfway to Mars, Instruments Check In\"}, {'Latest Article': \"Six Things About Opportunity's Recovery Efforts\"}, {'Latest Article': \"Meet the People Behind NASA's InSight Mars Lander\"}, {'Latest Article': 'Mars Terraforming Not Possible Using Present-Day Technology'}, {'Latest Article': 'Opportunity Hunkers Down During Dust Storm'}, {'Latest Article': 'NASA Invests in Visionary Technology'}, {'Latest Article': 'NASA is Ready to Study the Heart of Mars'}, {'Latest Article': 'NASA Briefing on First Mission to Study Mars Interior'}, {'Latest Article': 'NASA Announces Landing Site for Mars 2020 Rover'}, {'Latest Article': 'Opportunity Hunkers Down During Dust Storm'}, {'Latest Article': 'NASA Finds Ancient Organic Material, Mysterious Methane on Mars'}, {'Latest Article': 'NASA Invests in Visionary Technology'}, {'Latest Article': 'NASA is Ready to Study the Heart of Mars'}, {'Latest Article': 'NASA Briefing on First Mission to Study Mars Interior'}, {'Latest Article': 'NASA Announces Landing Site for Mars 2020 Rover'}, {'Latest Article': 'Opportunity Hunkers Down During Dust Storm'}, {'Latest Article': 'NASA Finds Ancient Organic Material, Mysterious Methane on Mars'}]\n"
          ]
        }
      ],
      "execution_count": 2,
      "metadata": {
        "inputHidden": false,
        "outputHidden": false
      }
    },
    {
      "cell_type": "markdown",
      "source": [
        "# NASA Mars News text"
      ],
      "metadata": {}
    },
    {
      "cell_type": "code",
      "source": [
        "news_p=[]\n",
        "article_p = []\n",
        "url = 'https://mars.nasa.gov/news/?page=0&per_page=40&order=publish_date+desc%2Ccreated_at+desc&search=&category=19%2C165%2C184%2C204&blank_scope=Latest'\n",
        "response = browser.visit(url)\n",
        "soup = BeautifulSoup(browser.html, 'html.parser')\n",
        "results_text = soup.find_all(\"div\", class_='rollover_description_inner')\n",
        "for result in results_text:\n",
        "        p = result.text.strip()\n",
        "        news_p.append(p)\n",
        "for i in range(len(news_p)):\n",
        "    article = dict([('Overview', news_p[i])])\n",
        "    article_p.append(article)\n",
        "print(article_p)"
      ],
      "outputs": [
        {
          "output_type": "stream",
          "name": "stdout",
          "text": [
            "[{'Overview': 'Two new image mosaics detail the lander\\'s deck and \"workspace\" — the surface where it will eventually set down its science instruments.'}, {'Overview': 'Vibrations picked up by two spacecraft instruments have provided the first sounds of Martian wind.'}, {'Overview': \"Now unstowed, the spacecraft's robotic arm will point a camera located on its elbow and take images of the surroundings.\"}, {'Overview': \"With InSight safely on the surface of Mars, the mission team is busy learning more about the spacecraft's landing site.\"}, {'Overview': \"A pair of tiny, experimental spacecraft fulfilled their mission yesterday, relaying back near-real-time data during InSight's landing.\"}, {'Overview': 'The lander has sent data indicating its solar panels are open and receiving sunlight to power its surface operations.'}, {'Overview': 'The touchdown marks the eighth time NASA has successfully landed a spacecraft on Mars.'}, {'Overview': \"NASA's InSight spacecraft is on target for Mars landing at around noon PST today.\"}, {'Overview': \"On Nov. 26, NASA's InSight spacecraft will blaze through the Martian atmosphere and set a lander gently on the surface in less time than it takes to cook a hard-boiled egg.\"}, {'Overview': \"NASA's Mars InSight spacecraft is on track for a soft touchdown on the surface of the Red Planet on Nov. 26.\"}, {'Overview': \"In studying Mars, NASA's InSight will reveal what makes one planet more or less suitable for life than another.\"}, {'Overview': 'After a five-year search, NASA has chosen Jezero Crater as the landing site for its upcoming Mars 2020 rover mission.'}, {'Overview': 'NASA will host a media teleconference at 9 a.m. PST (noon EST) Monday, Nov. 19, to provide details about the Mars 2020 rover’s landing site on the Red Planet.'}, {'Overview': 'On Nov. 26, engineers will look for a combination of signals to determine whether the next spacecraft to Mars lands safely.'}, {'Overview': \"NASA's InSight lander is scheduled to touch down on the Red Planet at approximately noon PST  on Nov. 26, with a new suite of instruments to probe below the Martian surface.\"}, {'Overview': \"NASA's Mars Curiosity rover drove about 197 feet over the weekend to a site called Lake Orcadie, pushing its total odometry to over 12 miles.\"}, {'Overview': 'If the InSight landing zone were ice cream, it would be vanilla.'}, {'Overview': \"NASA engineers will be holding their breath when their spacecraft heads into Mars' atmosphere on Nov. 26.\"}, {'Overview': \"NASA's new eight-episode series 'On a Mission' follows the InSight spacecraft on its journey to Mars and details the extraordinary challenges of landing on the Red Planet.\"}, {'Overview': 'After a review of the progress of the listening campaign, NASA will continue its current strategy for attempting to make contact with the Opportunity rover for the foreseeable future.'}, {'Overview': 'The supersonic parachute that will handle the heaviest payload yet to the Red Planet – Mars 2020 rover – passes its final sounding rocket test with flying colors.'}, {'Overview': \"A briefing on NASA's upcoming InSight Mars landing will air on Wed. Oct. 31 at 1:30 p.m. EDT (10:30 a.m. PDT) on NASA TV, the agency's website and NASA InSight Facebook Page.\"}, {'Overview': \"The lander's unique science can teach us how planets are born.\"}, {'Overview': 'The image was produced by one of the twin briefcase-sized MarCO spacecraft, the first CubeSats to fly to deep space.'}, {'Overview': \"NASA's InSight lander will be the first mission to use a robotic arm to grasp instruments from the spacecraft and place them on the surface of another planet.\"}, {'Overview': \"Hundreds of scientists and Mars-exploration enthusiasts gather this week to present, discuss and deliberate the future landing site for NASA's next Red Planet.\"}, {'Overview': \"A mixed-reality software that allows scientists and engineers to virtually walk on Mars has received NASA's 2018 Software of the Year Award.\"}, {'Overview': \"What does NASA do to get a rover ready for Mars? JPL's paint shop does a thousand different paint jobs a year. And while every piece of spacecraft that comes through the shop is important, one headed for the Red Planet adds a little extra oomph.\"}, {'Overview': \"NASA still hasn't heard from the Opportunity rover, but at least the agency can see it again.\"}, {'Overview': 'NASA has a class assignment for corporations, nonprofits and educational organizations involved in science and space exploration: partner with the agency to inspire future engineers and scientists by sponsoring a contest to name the next rover to venture to the Red Planet.'}, {'Overview': 'NASA’s MAVEN spacecraft celebrates four years in Mars orbit with a selfie.'}, {'Overview': 'A pair of NASA CubeSats flying to Mars are opening a new frontier for small spacecraft.'}, {'Overview': \"NASA's Curiosity rover surveyed its surroundings on Mars, producing a 360-degree panorama of its current location on Vera Rubin Ridge.\"}, {'Overview': \"The mission's heat probe could reveal how the planet's towering volcanoes formed.\"}, {'Overview': \"Up to 30 multimedia participants will be selected for a special two-day event at JPL culminating in the InSight spacecraft's landing on Mars. Apply by Sept. 3.\"}, {'Overview': \"NASA's InSight spacecraft, en route to a Nov. 26 landing on Mars, passed the halfway mark on Aug. 6. All of its instruments have been tested and are working well.\"}, {'Overview': 'The global dust storm on Mars could soon let in enough sunlight for the Opportunity rover to recharge.'}, {'Overview': 'A series of NASA videos highlight scientists and engineers leading the next mission to Mars.'}, {'Overview': 'Transforming the inhospitable Martian environment into a place astronauts could explore without life support is not possible without technology well beyond today’s capabilities.'}, {'Overview': \"It's the beginning of the end for the planet-encircling dust storm on Mars. But it could still be weeks, or even months, before skies are clear enough for NASA's Opportunity rover to recharge its batteries and phone home.\"}, {'Overview': 'NASA is investing in technology concepts, including several from JPL, that may one day be used for future space exploration missions.'}, {'Overview': 'NASA is about to go on a journey to study the center of Mars.'}, {'Overview': 'NASA’s next mission to Mars will be the topic of a media briefing Thursday, March 29, at JPL. The briefing will air live on NASA Television and the agency’s website.'}, {'Overview': 'After a five-year search, NASA has chosen Jezero Crater as the landing site for its upcoming Mars 2020 rover mission.'}, {'Overview': \"It's the beginning of the end for the planet-encircling dust storm on Mars. But it could still be weeks, or even months, before skies are clear enough for NASA's Opportunity rover to recharge its batteries and phone home.\"}, {'Overview': 'NASA’s Curiosity rover has found evidence on Mars with implications for NASA’s search for life.'}, {'Overview': 'NASA is investing in technology concepts, including several from JPL, that may one day be used for future space exploration missions.'}, {'Overview': 'NASA is about to go on a journey to study the center of Mars.'}, {'Overview': 'NASA’s next mission to Mars will be the topic of a media briefing Thursday, March 29, at JPL. The briefing will air live on NASA Television and the agency’s website.'}, {'Overview': 'After a five-year search, NASA has chosen Jezero Crater as the landing site for its upcoming Mars 2020 rover mission.'}, {'Overview': \"It's the beginning of the end for the planet-encircling dust storm on Mars. But it could still be weeks, or even months, before skies are clear enough for NASA's Opportunity rover to recharge its batteries and phone home.\"}, {'Overview': 'NASA’s Curiosity rover has found evidence on Mars with implications for NASA’s search for life.'}]\n"
          ]
        }
      ],
      "execution_count": 3,
      "metadata": {
        "inputHidden": false,
        "outputHidden": false
      }
    },
    {
      "cell_type": "markdown",
      "source": [
        "# JPL Mars Space Images - Featured Image"
      ],
      "metadata": {}
    },
    {
      "cell_type": "code",
      "source": [
        "url = 'https://www.jpl.nasa.gov/spaceimages/?search=&category=Mars'\n",
        "response = browser.visit(url)\n",
        "soup = BeautifulSoup(browser.html, 'html.parser')\n",
        "image = soup.find('img', class_=\"thumb\").get('src')\n",
        "featured_image_url = 'https://www.jpl.nasa.gov' + image\n",
        "print(f'Image url: {featured_image_url}')"
      ],
      "outputs": [
        {
          "output_type": "stream",
          "name": "stdout",
          "text": [
            "Image url: https://www.jpl.nasa.gov/spaceimages/images/wallpaper/PIA22876-640x350.jpg\n"
          ]
        }
      ],
      "execution_count": 4,
      "metadata": {
        "inputHidden": false,
        "outputHidden": false
      }
    },
    {
      "cell_type": "markdown",
      "source": [
        "# Mars Weather"
      ],
      "metadata": {}
    },
    {
      "cell_type": "code",
      "source": [
        "url = 'https://twitter.com/marswxreport?lang=en'\n",
        "response = browser.visit(url)\n",
        "soup = BeautifulSoup(browser.html, 'html.parser')\n",
        "tweets = soup.find('li', class_='js-stream-item')\n",
        "weather = ''\n",
        "for tweet in tweets:\n",
        "    if 'Sol' not in weather:\n",
        "        weather = tweets.find('div', class_='js-tweet-text-container')\n",
        "        mars_weather = weather.p.text\n",
        "print(f' Mars weather: {mars_weather}')"
      ],
      "outputs": [
        {
          "output_type": "stream",
          "name": "stdout",
          "text": [
            " Mars weather: Sol 2254 (2018-12-09), high -13C/8F, low -71C/-95F, pressure at 8.45 hPa, daylight 06:35-18:49\n"
          ]
        }
      ],
      "execution_count": 5,
      "metadata": {
        "inputHidden": false,
        "outputHidden": false
      }
    },
    {
      "cell_type": "markdown",
      "source": [
        "# Mars Facts"
      ],
      "metadata": {}
    },
    {
      "cell_type": "code",
      "source": [
        "mars_facts = pd.read_html('http://space-facts.com/mars/',attrs={'id':'tablepress-mars'})\n",
        "mars_df = mars_facts[0]\n",
        "mars_df.columns = [\"Category\", \"Data\"]\n",
        "mars_df"
      ],
      "outputs": [
        {
          "output_type": "execute_result",
          "execution_count": 6,
          "data": {
            "text/plain": [
              "               Category                           Data\n",
              "0  Equatorial Diameter:                       6,792 km\n",
              "1       Polar Diameter:                       6,752 km\n",
              "2                 Mass:  6.42 x 10^23 kg (10.7% Earth)\n",
              "3                Moons:            2 (Phobos & Deimos)\n",
              "4       Orbit Distance:       227,943,824 km (1.52 AU)\n",
              "5         Orbit Period:           687 days (1.9 years)\n",
              "6  Surface Temperature:                  -153 to 20 °C\n",
              "7         First Record:              2nd millennium BC\n",
              "8          Recorded By:           Egyptian astronomers"
            ],
            "text/html": [
              "<div>\n",
              "<style scoped>\n",
              "    .dataframe tbody tr th:only-of-type {\n",
              "        vertical-align: middle;\n",
              "    }\n",
              "\n",
              "    .dataframe tbody tr th {\n",
              "        vertical-align: top;\n",
              "    }\n",
              "\n",
              "    .dataframe thead th {\n",
              "        text-align: right;\n",
              "    }\n",
              "</style>\n",
              "<table border=\"1\" class=\"dataframe\">\n",
              "  <thead>\n",
              "    <tr style=\"text-align: right;\">\n",
              "      <th></th>\n",
              "      <th>Category</th>\n",
              "      <th>Data</th>\n",
              "    </tr>\n",
              "  </thead>\n",
              "  <tbody>\n",
              "    <tr>\n",
              "      <th>0</th>\n",
              "      <td>Equatorial Diameter:</td>\n",
              "      <td>6,792 km</td>\n",
              "    </tr>\n",
              "    <tr>\n",
              "      <th>1</th>\n",
              "      <td>Polar Diameter:</td>\n",
              "      <td>6,752 km</td>\n",
              "    </tr>\n",
              "    <tr>\n",
              "      <th>2</th>\n",
              "      <td>Mass:</td>\n",
              "      <td>6.42 x 10^23 kg (10.7% Earth)</td>\n",
              "    </tr>\n",
              "    <tr>\n",
              "      <th>3</th>\n",
              "      <td>Moons:</td>\n",
              "      <td>2 (Phobos &amp; Deimos)</td>\n",
              "    </tr>\n",
              "    <tr>\n",
              "      <th>4</th>\n",
              "      <td>Orbit Distance:</td>\n",
              "      <td>227,943,824 km (1.52 AU)</td>\n",
              "    </tr>\n",
              "    <tr>\n",
              "      <th>5</th>\n",
              "      <td>Orbit Period:</td>\n",
              "      <td>687 days (1.9 years)</td>\n",
              "    </tr>\n",
              "    <tr>\n",
              "      <th>6</th>\n",
              "      <td>Surface Temperature:</td>\n",
              "      <td>-153 to 20 °C</td>\n",
              "    </tr>\n",
              "    <tr>\n",
              "      <th>7</th>\n",
              "      <td>First Record:</td>\n",
              "      <td>2nd millennium BC</td>\n",
              "    </tr>\n",
              "    <tr>\n",
              "      <th>8</th>\n",
              "      <td>Recorded By:</td>\n",
              "      <td>Egyptian astronomers</td>\n",
              "    </tr>\n",
              "  </tbody>\n",
              "</table>\n",
              "</div>"
            ]
          },
          "metadata": {}
        }
      ],
      "execution_count": 6,
      "metadata": {
        "inputHidden": false,
        "outputHidden": false
      }
    },
    {
      "cell_type": "code",
      "source": [
        "mars_df_html = mars_df.to_html(index = False)\n",
        "print(mars_df_html)"
      ],
      "outputs": [
        {
          "output_type": "stream",
          "name": "stdout",
          "text": [
            "<table border=\"1\" class=\"dataframe\">\n",
            "  <thead>\n",
            "    <tr style=\"text-align: right;\">\n",
            "      <th>Category</th>\n",
            "      <th>Data</th>\n",
            "    </tr>\n",
            "  </thead>\n",
            "  <tbody>\n",
            "    <tr>\n",
            "      <td>Equatorial Diameter:</td>\n",
            "      <td>6,792 km</td>\n",
            "    </tr>\n",
            "    <tr>\n",
            "      <td>Polar Diameter:</td>\n",
            "      <td>6,752 km</td>\n",
            "    </tr>\n",
            "    <tr>\n",
            "      <td>Mass:</td>\n",
            "      <td>6.42 x 10^23 kg (10.7% Earth)</td>\n",
            "    </tr>\n",
            "    <tr>\n",
            "      <td>Moons:</td>\n",
            "      <td>2 (Phobos &amp; Deimos)</td>\n",
            "    </tr>\n",
            "    <tr>\n",
            "      <td>Orbit Distance:</td>\n",
            "      <td>227,943,824 km (1.52 AU)</td>\n",
            "    </tr>\n",
            "    <tr>\n",
            "      <td>Orbit Period:</td>\n",
            "      <td>687 days (1.9 years)</td>\n",
            "    </tr>\n",
            "    <tr>\n",
            "      <td>Surface Temperature:</td>\n",
            "      <td>-153 to 20 °C</td>\n",
            "    </tr>\n",
            "    <tr>\n",
            "      <td>First Record:</td>\n",
            "      <td>2nd millennium BC</td>\n",
            "    </tr>\n",
            "    <tr>\n",
            "      <td>Recorded By:</td>\n",
            "      <td>Egyptian astronomers</td>\n",
            "    </tr>\n",
            "  </tbody>\n",
            "</table>\n"
          ]
        }
      ],
      "execution_count": 7,
      "metadata": {
        "collapsed": false,
        "outputHidden": false,
        "inputHidden": false
      }
    },
    {
      "cell_type": "markdown",
      "source": [
        "# Mars Hemisphere"
      ],
      "metadata": {}
    },
    {
      "cell_type": "code",
      "source": [
        "url = 'https://astrogeology.usgs.gov/search/results?q=hemisphere+enhanced&k1=target&v1=Mars'\n",
        "title=[]\n",
        "response = browser.visit(url)\n",
        "soup = BeautifulSoup(browser.html, 'html.parser')\n",
        "titles_list = soup.find_all('div', class_='description')\n",
        "for titles in titles_list:\n",
        "    t = titles.h3.text\n",
        "    title.append(t)\n",
        "for t in title:\n",
        "    print(f' Title: {t}')"
      ],
      "outputs": [
        {
          "output_type": "stream",
          "name": "stdout",
          "text": [
            " Title: Cerberus Hemisphere Enhanced\n",
            " Title: Schiaparelli Hemisphere Enhanced\n",
            " Title: Syrtis Major Hemisphere Enhanced\n",
            " Title: Valles Marineris Hemisphere Enhanced\n"
          ]
        }
      ],
      "execution_count": 8,
      "metadata": {
        "inputHidden": false,
        "outputHidden": false
      }
    },
    {
      "cell_type": "code",
      "source": [
        "urls_list=['https://astrogeology.usgs.gov/search/map/Mars/Viking/cerberus_enhanced', 'https://astrogeology.usgs.gov/search/map/Mars/Viking/schiaparelli_enhanced','https://astrogeology.usgs.gov/search/map/Mars/Viking/syrtis_major_enhanced','https://astrogeology.usgs.gov/search/map/Mars/Viking/valles_marineris_enhanced']\n",
        "image_url=[]\n",
        "for urls in urls_list:\n",
        "    url = urls\n",
        "    response = browser.visit(url)\n",
        "    soup = BeautifulSoup(browser.html, 'html.parser')\n",
        "    image = soup.find('a', attrs={'target':'_blank', 'href': re.compile(\"^http://\")})\n",
        "    image_link = image.get('href')\n",
        "    image_url.append(image_link)\n",
        "for image in image_url:\n",
        "    print(f' Image url: {image}')"
      ],
      "outputs": [
        {
          "output_type": "stream",
          "name": "stdout",
          "text": [
            " Image url: http://astropedia.astrogeology.usgs.gov/download/Mars/Viking/cerberus_enhanced.tif/full.jpg\n",
            " Image url: http://astropedia.astrogeology.usgs.gov/download/Mars/Viking/schiaparelli_enhanced.tif/full.jpg\n",
            " Image url: http://astropedia.astrogeology.usgs.gov/download/Mars/Viking/syrtis_major_enhanced.tif/full.jpg\n",
            " Image url: http://astropedia.astrogeology.usgs.gov/download/Mars/Viking/valles_marineris_enhanced.tif/full.jpg\n"
          ]
        }
      ],
      "execution_count": 9,
      "metadata": {
        "inputHidden": false,
        "outputHidden": false
      }
    },
    {
      "cell_type": "code",
      "source": [
        "hemisphere_image_urls=[]\n",
        "for i in range(len(title)):\n",
        "    d = dict([(\"title\", title[i]), (\"img_url\", image_url[i])])\n",
        "    hemisphere_image_urls.append(d)\n",
        "hemisphere_image_urls"
      ],
      "outputs": [
        {
          "output_type": "execute_result",
          "execution_count": 10,
          "data": {
            "text/plain": [
              "[{'title': 'Cerberus Hemisphere Enhanced',\n",
              "  'img_url': 'http://astropedia.astrogeology.usgs.gov/download/Mars/Viking/cerberus_enhanced.tif/full.jpg'},\n",
              " {'title': 'Schiaparelli Hemisphere Enhanced',\n",
              "  'img_url': 'http://astropedia.astrogeology.usgs.gov/download/Mars/Viking/schiaparelli_enhanced.tif/full.jpg'},\n",
              " {'title': 'Syrtis Major Hemisphere Enhanced',\n",
              "  'img_url': 'http://astropedia.astrogeology.usgs.gov/download/Mars/Viking/syrtis_major_enhanced.tif/full.jpg'},\n",
              " {'title': 'Valles Marineris Hemisphere Enhanced',\n",
              "  'img_url': 'http://astropedia.astrogeology.usgs.gov/download/Mars/Viking/valles_marineris_enhanced.tif/full.jpg'}]"
            ]
          },
          "metadata": {}
        }
      ],
      "execution_count": 10,
      "metadata": {
        "inputHidden": false,
        "outputHidden": false
      }
    },
    {
      "cell_type": "code",
      "source": [
        "def scrape():\n",
        "    # NASA Mars News titles\n",
        "    \n",
        "    url = 'https://mars.nasa.gov/news/?page=0&per_page=40&order=publish_date+desc%2Ccreated_at+desc&search=&category=19%2C165%2C184%2C204&blank_scope=Latest'\n",
        "    response = browser.visit(url)\n",
        "    soup = BeautifulSoup(browser.html, 'html.parser')\n",
        "    article_title= soup.find(\"div\", class_='content_title').text.strip()\n",
        "\n",
        "    # NASA Mars News text\n",
        "    url = 'https://mars.nasa.gov/news/?page=0&per_page=40&order=publish_date+desc%2Ccreated_at+desc&search=&category=19%2C165%2C184%2C204&blank_scope=Latest'\n",
        "    response = browser.visit(url)\n",
        "    soup = BeautifulSoup(browser.html, 'html.parser')\n",
        "    article_p = soup.find(\"div\", class_='rollover_description_inner').text.strip()\n",
        "\n",
        "    # JPL Mars Space Images - Featured Image\n",
        "    url = 'https://www.jpl.nasa.gov/spaceimages/?search=&category=Mars'\n",
        "    response = browser.visit(url)\n",
        "    soup = BeautifulSoup(browser.html, 'html.parser')\n",
        "    image = soup.find('img', class_='thumb').get('src')\n",
        "    featured_image_url = 'https://www.jpl.nasa.gov' + image\n",
        "\n",
        "    # Mars Weather\n",
        "    url = 'https://twitter.com/marswxreport?lang=en'\n",
        "    response = browser.visit(url)\n",
        "    soup = BeautifulSoup(browser.html, 'html.parser')\n",
        "    tweets = soup.find('li', class_='js-stream-item')\n",
        "    weather = ''\n",
        "    for tweet in tweets:\n",
        "        if 'Sol' not in weather:\n",
        "            weather = tweets.find('div', class_='js-tweet-text-container')\n",
        "            mars_weather = weather.p.text\n",
        "\n",
        "    # Mars Facts\n",
        "    mars_df = pd.read_html('http://space-facts.com/mars/',attrs={'id':'tablepress-mars'})\n",
        "    mars_df = mars_df[0]\n",
        "    mars_df.columns = [\"Category\", \"Data\"]\n",
        "    mars_df_html = mars_df.to_html(index = False)\n",
        "\n",
        "    # Mars Hemisphere\n",
        "    url = 'https://astrogeology.usgs.gov/search/results?q=hemisphere+enhanced&k1=target&v1=Mars'\n",
        "    title=[]\n",
        "    response = browser.visit(url)\n",
        "    soup = BeautifulSoup(browser.html, 'html.parser')\n",
        "    titles_list = soup.find_all('div', class_='description')\n",
        "    for titles in titles_list:\n",
        "        t = titles.h3.text\n",
        "        title.append(t)\n",
        "\n",
        "    urls_list=['https://astrogeology.usgs.gov/search/map/Mars/Viking/cerberus_enhanced',\n",
        "                'https://astrogeology.usgs.gov/search/map/Mars/Viking/schiaparelli_enhanced',\n",
        "                'https://astrogeology.usgs.gov/search/map/Mars/Viking/syrtis_major_enhanced',\n",
        "                'https://astrogeology.usgs.gov/search/map/Mars/Viking/valles_marineris_enhanced']\n",
        "    image_url=[]\n",
        "    for urls in urls_list:\n",
        "        url = urls\n",
        "        response = browser.visit(url)\n",
        "        soup = BeautifulSoup(browser.html, 'html.parser')\n",
        "        image = soup.find('a', attrs={'target':'_blank', 'href': re.compile('^http://')})\n",
        "        image_link = image.get('href')\n",
        "        image_url.append(image_link)\n",
        "\n",
        "    hemisphere_image_urls=[]\n",
        "    for i in range(len(title)):\n",
        "        d = dict([('title', title[i]), ('img_url', image_url[i])])\n",
        "        hemisphere_image_urls.append(d)\n",
        "\n",
        "    # # Create combine dict\n",
        "    mars_data = {\n",
        "        'latest_title': article_title,\n",
        "        'latest_paragraph': article_p,\n",
        "        'image_url': featured_image_url,\n",
        "        'weather': mars_weather,\n",
        "        'data_table': mars_df_html,\n",
        "        'hemispheres': hemisphere_image_urls\n",
        "    }\n",
        "    return (mars_data)\n"
      ],
      "outputs": [],
      "execution_count": 11,
      "metadata": {
        "collapsed": false,
        "outputHidden": false,
        "inputHidden": false
      }
    },
    {
      "cell_type": "code",
      "source": [
        "scrape()"
      ],
      "outputs": [
        {
          "output_type": "execute_result",
          "execution_count": 12,
          "data": {
            "text/plain": [
              "{'latest_title': \"NASA's InSight Takes Its First Selfie\",\n",
              " 'latest_paragraph': 'Two new image mosaics detail the lander\\'s deck and \"workspace\" — the surface where it will eventually set down its science instruments.',\n",
              " 'image_url': 'https://www.jpl.nasa.gov/spaceimages/images/wallpaper/PIA22876-640x350.jpg',\n",
              " 'weather': 'Sol 2254 (2018-12-09), high -13C/8F, low -71C/-95F, pressure at 8.45 hPa, daylight 06:35-18:49',\n",
              " 'data_table': '<table border=\"1\" class=\"dataframe\">\\n  <thead>\\n    <tr style=\"text-align: right;\">\\n      <th>Category</th>\\n      <th>Data</th>\\n    </tr>\\n  </thead>\\n  <tbody>\\n    <tr>\\n      <td>Equatorial Diameter:</td>\\n      <td>6,792 km</td>\\n    </tr>\\n    <tr>\\n      <td>Polar Diameter:</td>\\n      <td>6,752 km</td>\\n    </tr>\\n    <tr>\\n      <td>Mass:</td>\\n      <td>6.42 x 10^23 kg (10.7% Earth)</td>\\n    </tr>\\n    <tr>\\n      <td>Moons:</td>\\n      <td>2 (Phobos &amp; Deimos)</td>\\n    </tr>\\n    <tr>\\n      <td>Orbit Distance:</td>\\n      <td>227,943,824 km (1.52 AU)</td>\\n    </tr>\\n    <tr>\\n      <td>Orbit Period:</td>\\n      <td>687 days (1.9 years)</td>\\n    </tr>\\n    <tr>\\n      <td>Surface Temperature:</td>\\n      <td>-153 to 20 °C</td>\\n    </tr>\\n    <tr>\\n      <td>First Record:</td>\\n      <td>2nd millennium BC</td>\\n    </tr>\\n    <tr>\\n      <td>Recorded By:</td>\\n      <td>Egyptian astronomers</td>\\n    </tr>\\n  </tbody>\\n</table>',\n",
              " 'hemispheres': [{'title': 'Cerberus Hemisphere Enhanced',\n",
              "   'img_url': 'http://astropedia.astrogeology.usgs.gov/download/Mars/Viking/cerberus_enhanced.tif/full.jpg'},\n",
              "  {'title': 'Schiaparelli Hemisphere Enhanced',\n",
              "   'img_url': 'http://astropedia.astrogeology.usgs.gov/download/Mars/Viking/schiaparelli_enhanced.tif/full.jpg'},\n",
              "  {'title': 'Syrtis Major Hemisphere Enhanced',\n",
              "   'img_url': 'http://astropedia.astrogeology.usgs.gov/download/Mars/Viking/syrtis_major_enhanced.tif/full.jpg'},\n",
              "  {'title': 'Valles Marineris Hemisphere Enhanced',\n",
              "   'img_url': 'http://astropedia.astrogeology.usgs.gov/download/Mars/Viking/valles_marineris_enhanced.tif/full.jpg'}]}"
            ]
          },
          "metadata": {}
        }
      ],
      "execution_count": 12,
      "metadata": {
        "collapsed": false,
        "outputHidden": false,
        "inputHidden": false
      }
    },
    {
      "cell_type": "code",
      "source": [],
      "outputs": [],
      "execution_count": 13,
      "metadata": {
        "collapsed": false,
        "outputHidden": false,
        "inputHidden": false
      }
    }
  ],
  "metadata": {
    "kernel_info": {
      "name": "python3"
    },
    "kernelspec": {
      "name": "python3",
      "language": "python",
      "display_name": "Python 3"
    },
    "language_info": {
      "name": "python",
      "version": "3.6.5",
      "mimetype": "text/x-python",
      "codemirror_mode": {
        "name": "ipython",
        "version": 3
      },
      "pygments_lexer": "ipython3",
      "nbconvert_exporter": "python",
      "file_extension": ".py"
    },
    "nteract": {
      "version": "0.12.3"
    }
  },
  "nbformat": 4,
  "nbformat_minor": 4
}