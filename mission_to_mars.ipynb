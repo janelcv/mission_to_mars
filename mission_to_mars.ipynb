{
  "cells": [
    {
      "cell_type": "code",
      "source": [
        "# Dependencies\n",
        "from bs4 import BeautifulSoup\n",
        "import requests\n",
        "import pandas as pd\n",
        "import numpy as np"
      ],
      "outputs": [],
      "execution_count": 75,
      "metadata": {
        "inputHidden": false,
        "outputHidden": false
      }
    },
    {
      "cell_type": "code",
      "source": [
        "#url of page to be scraped\n",
        "url = 'https://mars.nasa.gov/news/?page=0&per_page=40&order=publish_date+desc%2Ccreated_at+desc&search=&category=19%2C165%2C184%2C204&blank_scope=Latest'\n",
        "#Retrieve page\n",
        "response = requests.get(url)\n",
        "#Create BeautifulSoup object and parse the html page\n",
        "soup = BeautifulSoup(response.text, 'html.parser')"
      ],
      "outputs": [],
      "execution_count": 33,
      "metadata": {
        "inputHidden": false,
        "outputHidden": false
      }
    },
    {
      "cell_type": "markdown",
      "source": [
        "# NASA Mars News titles"
      ],
      "metadata": {}
    },
    {
      "cell_type": "code",
      "source": [
        "news_title=[]\n",
        "url = 'https://mars.nasa.gov/news/?page=0&per_page=40&order=publish_date+desc%2Ccreated_at+desc&search=&category=19%2C165%2C184%2C204&blank_scope=Latest'\n",
        "response = requests.get(url)\n",
        "soup = BeautifulSoup(response.text, 'html.parser')\n",
        "news_list = soup.find_all(\"div\", class_='content_title')\n",
        "for news in news_list:\n",
        "    news_t = news.text.strip()\n",
        "    news_title.append(news_t)\n",
        "for news in news_title:\n",
        "    print(f' Latest Article Title: {news}')"
      ],
      "outputs": [
        {
          "output_type": "stream",
          "name": "stdout",
          "text": [
            " Latest Article Title: NASA Announces Landing Site for Mars 2020 Rover\n",
            " Latest Article Title: Opportunity Hunkers Down During Dust Storm\n",
            " Latest Article Title: NASA Finds Ancient Organic Material, Mysterious Methane on Mars\n",
            " Latest Article Title: NASA Invests in Visionary Technology\n",
            " Latest Article Title: NASA is Ready to Study the Heart of Mars\n",
            " Latest Article Title: NASA Briefing on First Mission to Study Mars Interior\n"
          ]
        }
      ],
      "execution_count": 94,
      "metadata": {
        "inputHidden": false,
        "outputHidden": false
      }
    },
    {
      "cell_type": "markdown",
      "source": [
        "# NASA Mars News text"
      ],
      "metadata": {}
    },
    {
      "cell_type": "code",
      "source": [
        "news_p=[]\n",
        "url = 'https://mars.nasa.gov/news/?page=0&per_page=40&order=publish_date+desc%2Ccreated_at+desc&search=&category=19%2C165%2C184%2C204&blank_scope=Latest'\n",
        "response = requests.get(url)\n",
        "soup = BeautifulSoup(response.text, 'html.parser')\n",
        "results_text = soup.find_all(\"div\", class_='rollover_description_inner')\n",
        "for result in results_text:\n",
        "    p = result.text.strip()\n",
        "    news_p.append(p)\n",
        "for news in news_p:\n",
        "    print(f' Latest Article Overview: {news}')"
      ],
      "outputs": [
        {
          "output_type": "stream",
          "name": "stdout",
          "text": [
            " Latest Article Overview: After a five-year search, NASA has chosen Jezero Crater as the landing site for its upcoming Mars 2020 rover mission.\n",
            " Latest Article Overview: It's the beginning of the end for the planet-encircling dust storm on Mars. But it could still be weeks, or even months, before skies are clear enough for NASA's Opportunity rover to recharge its batteries and phone home.\n",
            " Latest Article Overview: NASA’s Curiosity rover has found evidence on Mars with implications for NASA’s search for life.\n",
            " Latest Article Overview: NASA is investing in technology concepts, including several from JPL, that may one day be used for future space exploration missions.\n",
            " Latest Article Overview: NASA is about to go on a journey to study the center of Mars.\n",
            " Latest Article Overview: NASA’s next mission to Mars will be the topic of a media briefing Thursday, March 29, at JPL. The briefing will air live on NASA Television and the agency’s website.\n"
          ]
        }
      ],
      "execution_count": 93,
      "metadata": {
        "inputHidden": false,
        "outputHidden": false
      }
    },
    {
      "cell_type": "markdown",
      "source": [
        "# JPL Mars Space Images - Featured Image"
      ],
      "metadata": {}
    },
    {
      "cell_type": "code",
      "source": [
        "url = 'https://www.jpl.nasa.gov/spaceimages/?search=&category=Mars'\n",
        "response = requests.get(url)\n",
        "soup = BeautifulSoup(response.text, 'html.parser')\n",
        "image = soup.find('img', class_=\"thumb\").get('src')\n",
        "featured_image_url = 'https://www.jpl.nasa.gov' + image\n",
        "print(f'Image url: {featured_image_url}')"
      ],
      "outputs": [
        {
          "output_type": "stream",
          "name": "stdout",
          "text": [
            "Image url: https://www.jpl.nasa.gov/spaceimages/images/wallpaper/PIA22873-640x350.jpg\n"
          ]
        }
      ],
      "execution_count": 87,
      "metadata": {
        "inputHidden": false,
        "outputHidden": false
      }
    },
    {
      "cell_type": "markdown",
      "source": [
        "# Mars Weather"
      ],
      "metadata": {}
    },
    {
      "cell_type": "code",
      "source": [
        "url = 'https://twitter.com/marswxreport?lang=en'\n",
        "response = requests.get(url)\n",
        "soup = BeautifulSoup(response.text, 'html.parser')\n",
        "tweets = soup.find('li', class_='js-stream-item')\n",
        "weather = ''\n",
        "for tweet in tweets:\n",
        "    if 'Sol' not in weather:\n",
        "        weather = tweets.find('div', class_='js-tweet-text-container')\n",
        "        mars_weather = weather.p.text\n",
        "print(f' Mars weather: {mars_weather}')"
      ],
      "outputs": [
        {
          "output_type": "stream",
          "name": "stdout",
          "text": [
            " Mars weather: Sol 2248 (2018-12-02), high 1C/33F, low -71C/-95F, pressure at 8.46 hPa, daylight 06:32-18:47\n"
          ]
        }
      ],
      "execution_count": 95,
      "metadata": {
        "inputHidden": false,
        "outputHidden": false
      }
    },
    {
      "cell_type": "code",
      "source": [
        "mars_df = pd.read_html('http://space-facts.com/mars/',attrs={'id':'tablepress-mars'})\n",
        "mars_df[0]"
      ],
      "outputs": [
        {
          "output_type": "execute_result",
          "execution_count": 78,
          "data": {
            "text/plain": [
              "                      0                              1\n",
              "0  Equatorial Diameter:                       6,792 km\n",
              "1       Polar Diameter:                       6,752 km\n",
              "2                 Mass:  6.42 x 10^23 kg (10.7% Earth)\n",
              "3                Moons:            2 (Phobos & Deimos)\n",
              "4       Orbit Distance:       227,943,824 km (1.52 AU)\n",
              "5         Orbit Period:           687 days (1.9 years)\n",
              "6  Surface Temperature:                  -153 to 20 °C\n",
              "7         First Record:              2nd millennium BC\n",
              "8          Recorded By:           Egyptian astronomers"
            ],
            "text/html": [
              "<div>\n",
              "<style scoped>\n",
              "    .dataframe tbody tr th:only-of-type {\n",
              "        vertical-align: middle;\n",
              "    }\n",
              "\n",
              "    .dataframe tbody tr th {\n",
              "        vertical-align: top;\n",
              "    }\n",
              "\n",
              "    .dataframe thead th {\n",
              "        text-align: right;\n",
              "    }\n",
              "</style>\n",
              "<table border=\"1\" class=\"dataframe\">\n",
              "  <thead>\n",
              "    <tr style=\"text-align: right;\">\n",
              "      <th></th>\n",
              "      <th>0</th>\n",
              "      <th>1</th>\n",
              "    </tr>\n",
              "  </thead>\n",
              "  <tbody>\n",
              "    <tr>\n",
              "      <th>0</th>\n",
              "      <td>Equatorial Diameter:</td>\n",
              "      <td>6,792 km</td>\n",
              "    </tr>\n",
              "    <tr>\n",
              "      <th>1</th>\n",
              "      <td>Polar Diameter:</td>\n",
              "      <td>6,752 km</td>\n",
              "    </tr>\n",
              "    <tr>\n",
              "      <th>2</th>\n",
              "      <td>Mass:</td>\n",
              "      <td>6.42 x 10^23 kg (10.7% Earth)</td>\n",
              "    </tr>\n",
              "    <tr>\n",
              "      <th>3</th>\n",
              "      <td>Moons:</td>\n",
              "      <td>2 (Phobos &amp; Deimos)</td>\n",
              "    </tr>\n",
              "    <tr>\n",
              "      <th>4</th>\n",
              "      <td>Orbit Distance:</td>\n",
              "      <td>227,943,824 km (1.52 AU)</td>\n",
              "    </tr>\n",
              "    <tr>\n",
              "      <th>5</th>\n",
              "      <td>Orbit Period:</td>\n",
              "      <td>687 days (1.9 years)</td>\n",
              "    </tr>\n",
              "    <tr>\n",
              "      <th>6</th>\n",
              "      <td>Surface Temperature:</td>\n",
              "      <td>-153 to 20 °C</td>\n",
              "    </tr>\n",
              "    <tr>\n",
              "      <th>7</th>\n",
              "      <td>First Record:</td>\n",
              "      <td>2nd millennium BC</td>\n",
              "    </tr>\n",
              "    <tr>\n",
              "      <th>8</th>\n",
              "      <td>Recorded By:</td>\n",
              "      <td>Egyptian astronomers</td>\n",
              "    </tr>\n",
              "  </tbody>\n",
              "</table>\n",
              "</div>"
            ]
          },
          "metadata": {}
        }
      ],
      "execution_count": 78,
      "metadata": {
        "inputHidden": false,
        "outputHidden": false
      }
    },
    {
      "cell_type": "markdown",
      "source": [
        "# Mars Hemisphere"
      ],
      "metadata": {}
    },
    {
      "cell_type": "code",
      "source": [
        "url = 'https://astrogeology.usgs.gov/search/results?q=hemisphere+enhanced&k1=target&v1=Mars'\n",
        "title=[]\n",
        "response = requests.get(url)\n",
        "soup = BeautifulSoup(response.text, 'html.parser')\n",
        "titles_list = soup.find_all('div', class_='description')\n",
        "for titles in titles_list:\n",
        "    t = titles.h3.text\n",
        "    title.append(t)\n",
        "for t in title:\n",
        "    print(f' Title: {t}')"
      ],
      "outputs": [
        {
          "output_type": "stream",
          "name": "stdout",
          "text": [
            " Title: Cerberus Hemisphere Enhanced\n",
            " Title: Schiaparelli Hemisphere Enhanced\n",
            " Title: Syrtis Major Hemisphere Enhanced\n",
            " Title: Valles Marineris Hemisphere Enhanced\n"
          ]
        }
      ],
      "execution_count": 96,
      "metadata": {
        "inputHidden": false,
        "outputHidden": false
      }
    },
    {
      "cell_type": "code",
      "source": [
        "urls_list=['https://astrogeology.usgs.gov/search/map/Mars/Viking/cerberus_enhanced', 'https://astrogeology.usgs.gov/search/map/Mars/Viking/schiaparelli_enhanced','https://astrogeology.usgs.gov/search/map/Mars/Viking/syrtis_major_enhanced','https://astrogeology.usgs.gov/search/map/Mars/Viking/valles_marineris_enhanced']\n",
        "image_url=[]\n",
        "for urls in urls_list:\n",
        "    url = urls\n",
        "    response = requests.get(url)\n",
        "    soup = BeautifulSoup(response.text, 'html.parser')\n",
        "    image = soup.find('a', attrs={'target':'_blank', 'href': re.compile(\"^http://\")})\n",
        "    image_link = image.get('href')\n",
        "    image_url.append(image_link)\n",
        "for image in image_url:\n",
        "    print(f' Image url: {image}')"
      ],
      "outputs": [
        {
          "output_type": "stream",
          "name": "stdout",
          "text": [
            " Image url: http://astropedia.astrogeology.usgs.gov/download/Mars/Viking/cerberus_enhanced.tif/full.jpg\n",
            " Image url: http://astropedia.astrogeology.usgs.gov/download/Mars/Viking/schiaparelli_enhanced.tif/full.jpg\n",
            " Image url: http://astropedia.astrogeology.usgs.gov/download/Mars/Viking/syrtis_major_enhanced.tif/full.jpg\n",
            " Image url: http://astropedia.astrogeology.usgs.gov/download/Mars/Viking/valles_marineris_enhanced.tif/full.jpg\n"
          ]
        }
      ],
      "execution_count": 97,
      "metadata": {
        "inputHidden": false,
        "outputHidden": false
      }
    },
    {
      "cell_type": "code",
      "source": [
        "hemisphere_image_urls=[]\n",
        "for i in range(len(title)):\n",
        "    d = dict([(\"title\", title[i]), (\"img_url\", image_url[i])])\n",
        "    hemisphere_image_urls.append(d)\n",
        "hemisphere_image_urls"
      ],
      "outputs": [
        {
          "output_type": "execute_result",
          "execution_count": 189,
          "data": {
            "text/plain": [
              "[{'title': 'Cerberus Hemisphere Enhanced',\n",
              "  'img_url': 'http://astropedia.astrogeology.usgs.gov/download/Mars/Viking/cerberus_enhanced.tif/full.jpg'},\n",
              " {'title': 'Schiaparelli Hemisphere Enhanced',\n",
              "  'img_url': 'http://astropedia.astrogeology.usgs.gov/download/Mars/Viking/schiaparelli_enhanced.tif/full.jpg'},\n",
              " {'title': 'Syrtis Major Hemisphere Enhanced',\n",
              "  'img_url': 'http://astropedia.astrogeology.usgs.gov/download/Mars/Viking/syrtis_major_enhanced.tif/full.jpg'},\n",
              " {'title': 'Valles Marineris Hemisphere Enhanced',\n",
              "  'img_url': 'http://astropedia.astrogeology.usgs.gov/download/Mars/Viking/valles_marineris_enhanced.tif/full.jpg'}]"
            ]
          },
          "metadata": {}
        }
      ],
      "execution_count": 189,
      "metadata": {
        "inputHidden": false,
        "outputHidden": false
      }
    }
  ],
  "metadata": {
    "kernel_info": {
      "name": "python3"
    },
    "kernelspec": {
      "name": "python3",
      "language": "python",
      "display_name": "Python 3"
    },
    "language_info": {
      "name": "python",
      "version": "3.6.5",
      "mimetype": "text/x-python",
      "codemirror_mode": {
        "name": "ipython",
        "version": 3
      },
      "pygments_lexer": "ipython3",
      "nbconvert_exporter": "python",
      "file_extension": ".py"
    },
    "nteract": {
      "version": "0.12.3"
    }
  },
  "nbformat": 4,
  "nbformat_minor": 4
}